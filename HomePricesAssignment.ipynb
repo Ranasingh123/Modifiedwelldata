{
 "cells": [
  {
   "cell_type": "markdown",
   "id": "100c799e",
   "metadata": {},
   "source": [
    "# Home-LLC-Assignment\n",
    "Task - Using publically available data for the national factors that impact Home Prices in US, build a model to study the effect of these variables on home prices.\n",
    "\n",
    "Approach - The following variables are chosen for the study-\n",
    "\n",
    "Unemployment Rate\n",
    "\n",
    "Per Capita GDP\n",
    "\n",
    "Median Household Income\n",
    "\n",
    "Construction Prices\n",
    "\n",
    "CPI\n",
    "\n",
    "Interest Rates\n",
    "\n",
    "Housing subsidies\n",
    "\n",
    "Number of Households\n",
    "\n",
    "As a proxy to the home prices, S&P CASE-SHILLER Index is used.\n",
    "\n",
    "Most of the data is downloaded from [https://fred.stlouisfed.org/].\n",
    "\n",
    "A few variables that could have been studied are below.\n",
    "\n",
    "Net-immigration (It is supposed to have a positive impact. No suitable data could be found)\n",
    "Marriage Rate (People tend to buy homes after they get married. So, it might have some effect. No data could be found)\n",
    "Average house size (The data was available only for the years after 2015. Though it is expected that an increase in the average house size would increase prices, it is found that the average home size has been consistently decreasing although the prica has been increasing)\n",
    "Land availability (Less land, higher prices. Perhaps this is why the prices has been rising even though the average house size has been decreasing. No relevant data could be found)\n",
    "Tax Rate (Too many brackets (7) and could not analyse due to time)\n",
    "Number of active listings (Data prior to 2017 was not found)\n",
    "Following sources were used to gather data -\n",
    "CASE-SCHILLER Home Price Index - https://fred.stlouisfed.org/series/CSUSHPISA\n",
    "\n",
    "Interest rates - https://fred.stlouisfed.org/series/FEDFUNDS\n",
    "\n",
    "Unemployment rate - https://fred.stlouisfed.org/series/UNRATE\n",
    "\n",
    "Income - https://fred.stlouisfed.org/series/DSPIC96\n",
    "\n",
    "Per Capita GDP - https://fred.stlouisfed.org/series/A939RX0Q048SBEA\n",
    "\n",
    "New Constructed units - https://fred.stlouisfed.org/series/COMPUTSA\n",
    "\n",
    "Construction price index - https://fred.stlouisfed.org/series/WPUSI012011\n",
    "\n",
    "Housing Subsidies (Federal) - https://fred.stlouisfed.org/series/L312051A027NBEA\n",
    "\n",
    "Total households - https://fred.stlouisfed.org/series/TTLHH"
   ]
  }
 ],
 "metadata": {
  "kernelspec": {
   "display_name": "Python 3 (ipykernel)",
   "language": "python",
   "name": "python3"
  },
  "language_info": {
   "codemirror_mode": {
    "name": "ipython",
    "version": 3
   },
   "file_extension": ".py",
   "mimetype": "text/x-python",
   "name": "python",
   "nbconvert_exporter": "python",
   "pygments_lexer": "ipython3",
   "version": "3.11.5"
  }
 },
 "nbformat": 4,
 "nbformat_minor": 5
}
