{
 "cells": [
  {
   "cell_type": "code",
   "execution_count": 3,
   "id": "ff36d462",
   "metadata": {},
   "outputs": [],
   "source": [
    "#Importing necessary libraries\n",
    "import numpy as np\n",
    "import pandas as pd\n",
    "import matplotlib.pyplot as plt\n",
    "from sklearn.preprocessing import MinMaxScaler\n",
    "from sklearn.linear_model import LinearRegression\n",
    "from sklearn.model_selection import train_test_split\n",
    "from sklearn.metrics import r2_score"
   ]
  },
  {
   "cell_type": "code",
   "execution_count": 4,
   "id": "da168d2f",
   "metadata": {},
   "outputs": [
    {
     "data": {
      "text/html": [
       "<div>\n",
       "<style scoped>\n",
       "    .dataframe tbody tr th:only-of-type {\n",
       "        vertical-align: middle;\n",
       "    }\n",
       "\n",
       "    .dataframe tbody tr th {\n",
       "        vertical-align: top;\n",
       "    }\n",
       "\n",
       "    .dataframe thead th {\n",
       "        text-align: right;\n",
       "    }\n",
       "</style>\n",
       "<table border=\"1\" class=\"dataframe\">\n",
       "  <thead>\n",
       "    <tr style=\"text-align: right;\">\n",
       "      <th></th>\n",
       "      <th>CSUSHPISA</th>\n",
       "      <th>Year</th>\n",
       "      <th>Month</th>\n",
       "      <th>Per_Capita_GDP</th>\n",
       "      <th>CPI</th>\n",
       "      <th>UNRATE</th>\n",
       "      <th>Cons_Materials</th>\n",
       "      <th>FEDFUNDS</th>\n",
       "      <th>Num_Households</th>\n",
       "      <th>Income</th>\n",
       "      <th>Subsidy</th>\n",
       "    </tr>\n",
       "    <tr>\n",
       "      <th>DATE</th>\n",
       "      <th></th>\n",
       "      <th></th>\n",
       "      <th></th>\n",
       "      <th></th>\n",
       "      <th></th>\n",
       "      <th></th>\n",
       "      <th></th>\n",
       "      <th></th>\n",
       "      <th></th>\n",
       "      <th></th>\n",
       "      <th></th>\n",
       "    </tr>\n",
       "  </thead>\n",
       "  <tbody>\n",
       "    <tr>\n",
       "      <th>2016-01-01</th>\n",
       "      <td>113.491</td>\n",
       "      <td>2001.0</td>\n",
       "      <td>7.0</td>\n",
       "      <td>49774.0</td>\n",
       "      <td>143.4</td>\n",
       "      <td>4.6</td>\n",
       "      <td>143.4</td>\n",
       "      <td>3.77</td>\n",
       "      <td>108209.0</td>\n",
       "      <td>10211.7</td>\n",
       "      <td>20.573</td>\n",
       "    </tr>\n",
       "    <tr>\n",
       "      <th>2016-02-01</th>\n",
       "      <td>113.491</td>\n",
       "      <td>2001.0</td>\n",
       "      <td>7.0</td>\n",
       "      <td>49774.0</td>\n",
       "      <td>143.4</td>\n",
       "      <td>4.6</td>\n",
       "      <td>143.4</td>\n",
       "      <td>3.77</td>\n",
       "      <td>108209.0</td>\n",
       "      <td>10223.4</td>\n",
       "      <td>20.573</td>\n",
       "    </tr>\n",
       "    <tr>\n",
       "      <th>2016-03-01</th>\n",
       "      <td>113.491</td>\n",
       "      <td>2001.0</td>\n",
       "      <td>7.0</td>\n",
       "      <td>49774.0</td>\n",
       "      <td>143.4</td>\n",
       "      <td>4.6</td>\n",
       "      <td>143.4</td>\n",
       "      <td>3.77</td>\n",
       "      <td>108209.0</td>\n",
       "      <td>10254.4</td>\n",
       "      <td>20.573</td>\n",
       "    </tr>\n",
       "    <tr>\n",
       "      <th>2016-04-01</th>\n",
       "      <td>113.491</td>\n",
       "      <td>2001.0</td>\n",
       "      <td>7.0</td>\n",
       "      <td>49774.0</td>\n",
       "      <td>143.4</td>\n",
       "      <td>4.6</td>\n",
       "      <td>143.4</td>\n",
       "      <td>3.77</td>\n",
       "      <td>108209.0</td>\n",
       "      <td>10233.1</td>\n",
       "      <td>20.573</td>\n",
       "    </tr>\n",
       "    <tr>\n",
       "      <th>2016-05-01</th>\n",
       "      <td>113.491</td>\n",
       "      <td>2001.0</td>\n",
       "      <td>7.0</td>\n",
       "      <td>49774.0</td>\n",
       "      <td>143.4</td>\n",
       "      <td>4.6</td>\n",
       "      <td>143.4</td>\n",
       "      <td>3.77</td>\n",
       "      <td>108209.0</td>\n",
       "      <td>10214.7</td>\n",
       "      <td>20.573</td>\n",
       "    </tr>\n",
       "  </tbody>\n",
       "</table>\n",
       "</div>"
      ],
      "text/plain": [
       "            CSUSHPISA    Year  Month  Per_Capita_GDP    CPI  UNRATE  \\\n",
       "DATE                                                                  \n",
       "2016-01-01    113.491  2001.0    7.0         49774.0  143.4     4.6   \n",
       "2016-02-01    113.491  2001.0    7.0         49774.0  143.4     4.6   \n",
       "2016-03-01    113.491  2001.0    7.0         49774.0  143.4     4.6   \n",
       "2016-04-01    113.491  2001.0    7.0         49774.0  143.4     4.6   \n",
       "2016-05-01    113.491  2001.0    7.0         49774.0  143.4     4.6   \n",
       "\n",
       "            Cons_Materials  FEDFUNDS  Num_Households   Income  Subsidy  \n",
       "DATE                                                                    \n",
       "2016-01-01           143.4      3.77        108209.0  10211.7   20.573  \n",
       "2016-02-01           143.4      3.77        108209.0  10223.4   20.573  \n",
       "2016-03-01           143.4      3.77        108209.0  10254.4   20.573  \n",
       "2016-04-01           143.4      3.77        108209.0  10233.1   20.573  \n",
       "2016-05-01           143.4      3.77        108209.0  10214.7   20.573  "
      ]
     },
     "execution_count": 4,
     "metadata": {},
     "output_type": "execute_result"
    }
   ],
   "source": [
    "# Reading prepared data into a dataframe.\n",
    "df = pd.read_csv(\"prepared_dataset.csv\").set_index(\"DATE\")\n",
    "df.head()"
   ]
  },
  {
   "cell_type": "code",
   "execution_count": 5,
   "id": "6647db29",
   "metadata": {},
   "outputs": [],
   "source": [
    "# Dropping year and month columns\n",
    "df.drop(columns = [\"Year\", \"Month\"], inplace = True)"
   ]
  },
  {
   "cell_type": "code",
   "execution_count": 6,
   "id": "057ae12f",
   "metadata": {},
   "outputs": [
    {
     "data": {
      "text/html": [
       "<div>\n",
       "<style scoped>\n",
       "    .dataframe tbody tr th:only-of-type {\n",
       "        vertical-align: middle;\n",
       "    }\n",
       "\n",
       "    .dataframe tbody tr th {\n",
       "        vertical-align: top;\n",
       "    }\n",
       "\n",
       "    .dataframe thead th {\n",
       "        text-align: right;\n",
       "    }\n",
       "</style>\n",
       "<table border=\"1\" class=\"dataframe\">\n",
       "  <thead>\n",
       "    <tr style=\"text-align: right;\">\n",
       "      <th></th>\n",
       "      <th>CSUSHPISA</th>\n",
       "      <th>Per_Capita_GDP</th>\n",
       "      <th>CPI</th>\n",
       "      <th>UNRATE</th>\n",
       "      <th>Cons_Materials</th>\n",
       "      <th>FEDFUNDS</th>\n",
       "      <th>Num_Households</th>\n",
       "      <th>Income</th>\n",
       "      <th>Subsidy</th>\n",
       "    </tr>\n",
       "  </thead>\n",
       "  <tbody>\n",
       "    <tr>\n",
       "      <th>CSUSHPISA</th>\n",
       "      <td>1.000000</td>\n",
       "      <td>0.908526</td>\n",
       "      <td>0.903895</td>\n",
       "      <td>-0.445435</td>\n",
       "      <td>0.903895</td>\n",
       "      <td>0.073251</td>\n",
       "      <td>0.762767</td>\n",
       "      <td>0.820717</td>\n",
       "      <td>0.852693</td>\n",
       "    </tr>\n",
       "    <tr>\n",
       "      <th>Per_Capita_GDP</th>\n",
       "      <td>0.908526</td>\n",
       "      <td>1.000000</td>\n",
       "      <td>0.922063</td>\n",
       "      <td>-0.392578</td>\n",
       "      <td>0.922063</td>\n",
       "      <td>-0.142911</td>\n",
       "      <td>0.941791</td>\n",
       "      <td>0.942707</td>\n",
       "      <td>0.936516</td>\n",
       "    </tr>\n",
       "    <tr>\n",
       "      <th>CPI</th>\n",
       "      <td>0.903895</td>\n",
       "      <td>0.922063</td>\n",
       "      <td>1.000000</td>\n",
       "      <td>-0.224930</td>\n",
       "      <td>1.000000</td>\n",
       "      <td>-0.251704</td>\n",
       "      <td>0.879650</td>\n",
       "      <td>0.882179</td>\n",
       "      <td>0.936392</td>\n",
       "    </tr>\n",
       "    <tr>\n",
       "      <th>UNRATE</th>\n",
       "      <td>-0.445435</td>\n",
       "      <td>-0.392578</td>\n",
       "      <td>-0.224930</td>\n",
       "      <td>1.000000</td>\n",
       "      <td>-0.224930</td>\n",
       "      <td>-0.514382</td>\n",
       "      <td>-0.179188</td>\n",
       "      <td>-0.180274</td>\n",
       "      <td>-0.109187</td>\n",
       "    </tr>\n",
       "    <tr>\n",
       "      <th>Cons_Materials</th>\n",
       "      <td>0.903895</td>\n",
       "      <td>0.922063</td>\n",
       "      <td>1.000000</td>\n",
       "      <td>-0.224930</td>\n",
       "      <td>1.000000</td>\n",
       "      <td>-0.251704</td>\n",
       "      <td>0.879650</td>\n",
       "      <td>0.882179</td>\n",
       "      <td>0.936392</td>\n",
       "    </tr>\n",
       "    <tr>\n",
       "      <th>FEDFUNDS</th>\n",
       "      <td>0.073251</td>\n",
       "      <td>-0.142911</td>\n",
       "      <td>-0.251704</td>\n",
       "      <td>-0.514382</td>\n",
       "      <td>-0.251704</td>\n",
       "      <td>1.000000</td>\n",
       "      <td>-0.366669</td>\n",
       "      <td>-0.315202</td>\n",
       "      <td>-0.343429</td>\n",
       "    </tr>\n",
       "    <tr>\n",
       "      <th>Num_Households</th>\n",
       "      <td>0.762767</td>\n",
       "      <td>0.941791</td>\n",
       "      <td>0.879650</td>\n",
       "      <td>-0.179188</td>\n",
       "      <td>0.879650</td>\n",
       "      <td>-0.366669</td>\n",
       "      <td>1.000000</td>\n",
       "      <td>0.950102</td>\n",
       "      <td>0.950551</td>\n",
       "    </tr>\n",
       "    <tr>\n",
       "      <th>Income</th>\n",
       "      <td>0.820717</td>\n",
       "      <td>0.942707</td>\n",
       "      <td>0.882179</td>\n",
       "      <td>-0.180274</td>\n",
       "      <td>0.882179</td>\n",
       "      <td>-0.315202</td>\n",
       "      <td>0.950102</td>\n",
       "      <td>1.000000</td>\n",
       "      <td>0.958488</td>\n",
       "    </tr>\n",
       "    <tr>\n",
       "      <th>Subsidy</th>\n",
       "      <td>0.852693</td>\n",
       "      <td>0.936516</td>\n",
       "      <td>0.936392</td>\n",
       "      <td>-0.109187</td>\n",
       "      <td>0.936392</td>\n",
       "      <td>-0.343429</td>\n",
       "      <td>0.950551</td>\n",
       "      <td>0.958488</td>\n",
       "      <td>1.000000</td>\n",
       "    </tr>\n",
       "  </tbody>\n",
       "</table>\n",
       "</div>"
      ],
      "text/plain": [
       "                CSUSHPISA  Per_Capita_GDP       CPI    UNRATE  Cons_Materials  \\\n",
       "CSUSHPISA        1.000000        0.908526  0.903895 -0.445435        0.903895   \n",
       "Per_Capita_GDP   0.908526        1.000000  0.922063 -0.392578        0.922063   \n",
       "CPI              0.903895        0.922063  1.000000 -0.224930        1.000000   \n",
       "UNRATE          -0.445435       -0.392578 -0.224930  1.000000       -0.224930   \n",
       "Cons_Materials   0.903895        0.922063  1.000000 -0.224930        1.000000   \n",
       "FEDFUNDS         0.073251       -0.142911 -0.251704 -0.514382       -0.251704   \n",
       "Num_Households   0.762767        0.941791  0.879650 -0.179188        0.879650   \n",
       "Income           0.820717        0.942707  0.882179 -0.180274        0.882179   \n",
       "Subsidy          0.852693        0.936516  0.936392 -0.109187        0.936392   \n",
       "\n",
       "                FEDFUNDS  Num_Households    Income   Subsidy  \n",
       "CSUSHPISA       0.073251        0.762767  0.820717  0.852693  \n",
       "Per_Capita_GDP -0.142911        0.941791  0.942707  0.936516  \n",
       "CPI            -0.251704        0.879650  0.882179  0.936392  \n",
       "UNRATE         -0.514382       -0.179188 -0.180274 -0.109187  \n",
       "Cons_Materials -0.251704        0.879650  0.882179  0.936392  \n",
       "FEDFUNDS        1.000000       -0.366669 -0.315202 -0.343429  \n",
       "Num_Households -0.366669        1.000000  0.950102  0.950551  \n",
       "Income         -0.315202        0.950102  1.000000  0.958488  \n",
       "Subsidy        -0.343429        0.950551  0.958488  1.000000  "
      ]
     },
     "execution_count": 6,
     "metadata": {},
     "output_type": "execute_result"
    }
   ],
   "source": [
    "# Correlation\n",
    "df.corr()"
   ]
  },
  {
   "cell_type": "code",
   "execution_count": 7,
   "id": "df282b57",
   "metadata": {},
   "outputs": [],
   "source": [
    "# Separating the target variable and the independent variable\n",
    "y = df.pop(\"CSUSHPISA\")\n",
    "X = df"
   ]
  },
  {
   "cell_type": "code",
   "execution_count": 8,
   "id": "cd42c8fc",
   "metadata": {},
   "outputs": [
    {
     "data": {
      "image/png": "[encoded data removed]",
      "text/plain": [
       "<Figure size 640x480 with 1 Axes>"
      ]
     },
     "metadata": {},
     "output_type": "display_data"
    },
    {
     "data": {
      "image/png": "[encoded data removed]",
      "text/plain": [
       "<Figure size 640x480 with 1 Axes>"
      ]
     },
     "metadata": {},
     "output_type": "display_data"
    },
    {
     "data": {
      "image/png": "[encoded data removed]",
      "text/plain": [
       "<Figure size 640x480 with 1 Axes>"
      ]
     },
     "metadata": {},
     "output_type": "display_data"
    },
    {
     "data": {
      "image/png": "[encoded data removed]",
      "text/plain": [
       "<Figure size 640x480 with 1 Axes>"
      ]
     },
     "metadata": {},
     "output_type": "display_data"
    },
    {
     "data": {
      "image/png": "[encoded data removed]",
      "text/plain": [
       "<Figure size 640x480 with 1 Axes>"
      ]
     },
     "metadata": {},
     "output_type": "display_data"
    },
    {
     "data": {
      "image/png": "[encoded data removed]",
      "text/plain": [
       "<Figure size 640x480 with 1 Axes>"
      ]
     },
     "metadata": {},
     "output_type": "display_data"
    },
    {
     "data": {
      "image/png": "[encoded data removed]",
      "text/plain": [
       "<Figure size 640x480 with 1 Axes>"
      ]
     },
     "metadata": {},
     "output_type": "display_data"
    },
    {
     "data": {
      "image/png": "[encoded data removed]",
      "text/plain": [
       "<Figure size 640x480 with 1 Axes>"
      ]
     },
     "metadata": {},
     "output_type": "display_data"
    }
   ],
   "source": [
    "# Plotting scatter plots of the CASE-SHILLER index vs features\n",
    "\n",
    "for feature in X.columns:\n",
    "    plt.figure()\n",
    "    plt.scatter(x = X[feature], y = y)\n",
    "    plt.xlabel(feature)\n",
    "    plt.ylabel(\"CASE-SHILLER index\")\n",
    "    plt.title(f\"CASE-SHILLER index vs {feature}\")"
   ]
  },
  {
   "cell_type": "markdown",
   "id": "f8d2e5f1",
   "metadata": {},
   "source": [
    "# From the correlation matrix and the scatter plots, the following conclusions can be made-\n",
    "Impact of the great recession is reflected in almost all the plots.\n",
    "\n",
    "Interest rates have a slight negative impact on the home prices.\n",
    "\n",
    "All the other variables are positively correlated with the home prices."
   ]
  },
  {
   "cell_type": "code",
   "execution_count": 9,
   "id": "d55801fb",
   "metadata": {},
   "outputs": [],
   "source": [
    "# Dropping multicollinearity columns\n",
    "mult_cols = [ \"CPI\", \"Num_Households\", \n",
    "             \"Subsidy\", \"Cons_Materials\", \"Income\"]\n",
    "df.drop(columns = mult_cols, inplace = True)\n",
    "X = df"
   ]
  },
  {
   "cell_type": "markdown",
   "id": "9ae5c3e3",
   "metadata": {},
   "source": [
    "Model Building"
   ]
  },
  {
   "cell_type": "code",
   "execution_count": 10,
   "id": "a946bbbe",
   "metadata": {},
   "outputs": [],
   "source": [
    "# Scaling\n",
    "scalar = MinMaxScaler()\n",
    "X = scalar.fit_transform(X)"
   ]
  },
  {
   "cell_type": "code",
   "execution_count": 11,
   "id": "64784dc2",
   "metadata": {},
   "outputs": [],
   "source": [
    "# Splitting data into train and validation sets\n",
    "X_train, X_test, y_train, y_test = train_test_split(X,y, test_size= 0.2, random_state= 42)"
   ]
  },
  {
   "cell_type": "code",
   "execution_count": 12,
   "id": "061ff7d3",
   "metadata": {},
   "outputs": [
    {
     "name": "stdout",
     "output_type": "stream",
     "text": [
      "The r2_score for the validation set is:  0.8521657498115156\n"
     ]
    }
   ],
   "source": [
    "# Linear Regression Model\n",
    "model = LinearRegression()\n",
    "model.fit(X_train, y_train)\n",
    "pred = model.predict(X_test)\n",
    "score = r2_score(pred, y_test)\n",
    "print(\"The r2_score for the validation set is: \", score)"
   ]
  },
  {
   "cell_type": "markdown",
   "id": "e4f493d9",
   "metadata": {},
   "source": [
    "The R2 score is close to 1. It means that model predicts the target variable with good accuracy."
   ]
  },
  {
   "cell_type": "code",
   "execution_count": 13,
   "id": "7ae1a88a",
   "metadata": {},
   "outputs": [
    {
     "name": "stdout",
     "output_type": "stream",
     "text": [
      "The coefficient for Per_Capita_GDP is 157.39749536365926\n",
      "The coefficient for UNRATE is 13.860417875394267\n",
      "The coefficient for FEDFUNDS is 34.64836994565797\n"
     ]
    }
   ],
   "source": [
    "#Printing the regression coefficients of different variables\n",
    "coefs = model.coef_\n",
    "cols = df.columns\n",
    "for i in range(len(coefs)):\n",
    "    print(f\"The coefficient for {cols[i]} is {coefs[i]}\")"
   ]
  },
  {
   "cell_type": "code",
   "execution_count": 14,
   "id": "06953e6c",
   "metadata": {},
   "outputs": [
    {
     "name": "stdout",
     "output_type": "stream",
     "text": [
      "The intercept is:  95.55938865080256\n"
     ]
    }
   ],
   "source": [
    "# The intercept\n",
    "print(\"The intercept is: \", model.intercept_)"
   ]
  },
  {
   "cell_type": "code",
   "execution_count": 19,
   "id": "5507bd51",
   "metadata": {},
   "outputs": [],
   "source": [
    "from sklearn.ensemble import RandomForestRegressor\n",
    "from sklearn.neighbors import KNeighborsRegressor as KNN\n",
    "from sklearn.ensemble import GradientBoostingRegressor\n",
    "from sklearn.ensemble import AdaBoostRegressor\n",
    "from sklearn.ensemble import RandomForestRegressor\n",
    "from sklearn.metrics import mean_absolute_error\n",
    "from sklearn.metrics import mean_squared_error\n",
    "from sklearn.metrics import r2_score"
   ]
  },
  {
   "cell_type": "code",
   "execution_count": 21,
   "id": "97f1846b",
   "metadata": {},
   "outputs": [
    {
     "name": "stdout",
     "output_type": "stream",
     "text": [
      "R2_Score: 0.999875993918342\n",
      "MAE: 0.10252383739850246\n",
      "MSE: 0.2465806836520395\n",
      "RMSE: 0.49656891128225045\n"
     ]
    }
   ],
   "source": [
    "# Checking R2 score for Random Forest Regressor\n",
    "RFR=RandomForestRegressor()\n",
    "RFR.fit(X_train,y_train)\n",
    "\n",
    "# prediction\n",
    "predRFR=RFR.predict(X_test)\n",
    "print('R2_Score:',r2_score(y_test,predRFR))\n",
    "print('MAE:',mean_absolute_error(y_test, predRFR))\n",
    "print('MSE:',mean_squared_error(y_test, predRFR))\n",
    "print(\"RMSE:\",np.sqrt(mean_squared_error(y_test, predRFR)))"
   ]
  },
  {
   "cell_type": "code",
   "execution_count": 23,
   "id": "9db6cc21",
   "metadata": {},
   "outputs": [
    {
     "name": "stdout",
     "output_type": "stream",
     "text": [
      "R2_Score: 0.9989867131923615\n",
      "MAE: 0.15315121951219676\n",
      "MSE: 2.014876612682924\n",
      "RMSE: 1.4194634946637141\n"
     ]
    }
   ],
   "source": [
    "# Checking R2 score for Stochastic KNN Regressor\n",
    "knn=KNN()\n",
    "knn.fit(X_train,y_train)\n",
    "\n",
    "# prediction\n",
    "predknn=knn.predict(X_test)\n",
    "print('R2_Score:',r2_score(y_test,predknn))\n",
    "print('MAE:',mean_absolute_error(y_test, predknn))\n",
    "print('MSE:',mean_squared_error(y_test, predknn))\n",
    "print(\"RMSE:\",np.sqrt(mean_squared_error(y_test, predknn)))"
   ]
  },
  {
   "cell_type": "code",
   "execution_count": 24,
   "id": "6b6c8797",
   "metadata": {},
   "outputs": [
    {
     "name": "stdout",
     "output_type": "stream",
     "text": [
      "R2_Score: 0.9986772425223548\n",
      "MAE: 1.0740132845167298\n",
      "MSE: 2.630245539434274\n",
      "RMSE: 1.6218031753065087\n"
     ]
    }
   ],
   "source": [
    "GB=GradientBoostingRegressor()\n",
    "GB.fit(X_train,y_train)\n",
    "\n",
    "# prediction\n",
    "predGB=GB.predict(X_test)\n",
    "print('R2_Score:',r2_score(y_test,predGB))\n",
    "print('MAE:',mean_absolute_error(y_test, predGB))\n",
    "print('MSE:',mean_squared_error(y_test, predGB))\n",
    "print(\"RMSE:\",np.sqrt(mean_squared_error(y_test, predGB)))"
   ]
  },
  {
   "cell_type": "code",
   "execution_count": 25,
   "id": "d2269413",
   "metadata": {},
   "outputs": [
    {
     "name": "stdout",
     "output_type": "stream",
     "text": [
      "R2_Score: 0.9655989733616287\n",
      "MAE: 6.3904651918532105\n",
      "MSE: 68.40494073684339\n",
      "RMSE: 8.27072794479684\n"
     ]
    }
   ],
   "source": [
    "ABR=AdaBoostRegressor()\n",
    "\n",
    "ABR.fit(X_train,y_train)\n",
    "# prediction\n",
    "predABR=ABR.predict(X_test)\n",
    "print('R2_Score:',r2_score(y_test,predABR))\n",
    "print('MAE:',mean_absolute_error(y_test, predABR))\n",
    "print('MSE:',mean_squared_error(y_test, predABR))\n",
    "print(\"RMSE:\",np.sqrt(mean_squared_error(y_test, predABR)))"
   ]
  },
  {
   "cell_type": "markdown",
   "id": "96387814",
   "metadata": {},
   "source": [
    "We know that the 4 features like Consumer Price Indes(CPI), Num_Houseolds, Subsidy, Cons Materials, and Income were having high correlation but they are the key factors or main factors. So will need to apply Cross Validation Techniques and Bagging regression on them in order to avoid overfitting and train the model well with this highly correlated features."
   ]
  },
  {
   "cell_type": "code",
   "execution_count": 22,
   "id": "f3f841f4",
   "metadata": {},
   "outputs": [],
   "source": [
    "from sklearn.model_selection import cross_val_score\n",
    "import pandas as pd\n",
    "import numpy as np\n",
    "from sklearn.linear_model import LinearRegression\n",
    "from sklearn.model_selection import train_test_split"
   ]
  },
  {
   "cell_type": "code",
   "execution_count": 23,
   "id": "dff38ac5",
   "metadata": {},
   "outputs": [
    {
     "data": {
      "text/html": [
       "<div>\n",
       "<style scoped>\n",
       "    .dataframe tbody tr th:only-of-type {\n",
       "        vertical-align: middle;\n",
       "    }\n",
       "\n",
       "    .dataframe tbody tr th {\n",
       "        vertical-align: top;\n",
       "    }\n",
       "\n",
       "    .dataframe thead th {\n",
       "        text-align: right;\n",
       "    }\n",
       "</style>\n",
       "<table border=\"1\" class=\"dataframe\">\n",
       "  <thead>\n",
       "    <tr style=\"text-align: right;\">\n",
       "      <th></th>\n",
       "      <th>CSUSHPISA</th>\n",
       "      <th>Year</th>\n",
       "      <th>Month</th>\n",
       "      <th>Per_Capita_GDP</th>\n",
       "      <th>CPI</th>\n",
       "      <th>UNRATE</th>\n",
       "      <th>Cons_Materials</th>\n",
       "      <th>FEDFUNDS</th>\n",
       "      <th>Num_Households</th>\n",
       "      <th>Income</th>\n",
       "      <th>Subsidy</th>\n",
       "    </tr>\n",
       "    <tr>\n",
       "      <th>DATE</th>\n",
       "      <th></th>\n",
       "      <th></th>\n",
       "      <th></th>\n",
       "      <th></th>\n",
       "      <th></th>\n",
       "      <th></th>\n",
       "      <th></th>\n",
       "      <th></th>\n",
       "      <th></th>\n",
       "      <th></th>\n",
       "      <th></th>\n",
       "    </tr>\n",
       "  </thead>\n",
       "  <tbody>\n",
       "    <tr>\n",
       "      <th>2016-01-01</th>\n",
       "      <td>113.491</td>\n",
       "      <td>2001.0</td>\n",
       "      <td>7.0</td>\n",
       "      <td>49774.0</td>\n",
       "      <td>143.4</td>\n",
       "      <td>4.6</td>\n",
       "      <td>143.4</td>\n",
       "      <td>3.77</td>\n",
       "      <td>108209.0</td>\n",
       "      <td>10211.7</td>\n",
       "      <td>20.573</td>\n",
       "    </tr>\n",
       "    <tr>\n",
       "      <th>2016-02-01</th>\n",
       "      <td>113.491</td>\n",
       "      <td>2001.0</td>\n",
       "      <td>7.0</td>\n",
       "      <td>49774.0</td>\n",
       "      <td>143.4</td>\n",
       "      <td>4.6</td>\n",
       "      <td>143.4</td>\n",
       "      <td>3.77</td>\n",
       "      <td>108209.0</td>\n",
       "      <td>10223.4</td>\n",
       "      <td>20.573</td>\n",
       "    </tr>\n",
       "    <tr>\n",
       "      <th>2016-03-01</th>\n",
       "      <td>113.491</td>\n",
       "      <td>2001.0</td>\n",
       "      <td>7.0</td>\n",
       "      <td>49774.0</td>\n",
       "      <td>143.4</td>\n",
       "      <td>4.6</td>\n",
       "      <td>143.4</td>\n",
       "      <td>3.77</td>\n",
       "      <td>108209.0</td>\n",
       "      <td>10254.4</td>\n",
       "      <td>20.573</td>\n",
       "    </tr>\n",
       "    <tr>\n",
       "      <th>2016-04-01</th>\n",
       "      <td>113.491</td>\n",
       "      <td>2001.0</td>\n",
       "      <td>7.0</td>\n",
       "      <td>49774.0</td>\n",
       "      <td>143.4</td>\n",
       "      <td>4.6</td>\n",
       "      <td>143.4</td>\n",
       "      <td>3.77</td>\n",
       "      <td>108209.0</td>\n",
       "      <td>10233.1</td>\n",
       "      <td>20.573</td>\n",
       "    </tr>\n",
       "    <tr>\n",
       "      <th>2016-05-01</th>\n",
       "      <td>113.491</td>\n",
       "      <td>2001.0</td>\n",
       "      <td>7.0</td>\n",
       "      <td>49774.0</td>\n",
       "      <td>143.4</td>\n",
       "      <td>4.6</td>\n",
       "      <td>143.4</td>\n",
       "      <td>3.77</td>\n",
       "      <td>108209.0</td>\n",
       "      <td>10214.7</td>\n",
       "      <td>20.573</td>\n",
       "    </tr>\n",
       "  </tbody>\n",
       "</table>\n",
       "</div>"
      ],
      "text/plain": [
       "            CSUSHPISA    Year  Month  Per_Capita_GDP    CPI  UNRATE  \\\n",
       "DATE                                                                  \n",
       "2016-01-01    113.491  2001.0    7.0         49774.0  143.4     4.6   \n",
       "2016-02-01    113.491  2001.0    7.0         49774.0  143.4     4.6   \n",
       "2016-03-01    113.491  2001.0    7.0         49774.0  143.4     4.6   \n",
       "2016-04-01    113.491  2001.0    7.0         49774.0  143.4     4.6   \n",
       "2016-05-01    113.491  2001.0    7.0         49774.0  143.4     4.6   \n",
       "\n",
       "            Cons_Materials  FEDFUNDS  Num_Households   Income  Subsidy  \n",
       "DATE                                                                    \n",
       "2016-01-01           143.4      3.77        108209.0  10211.7   20.573  \n",
       "2016-02-01           143.4      3.77        108209.0  10223.4   20.573  \n",
       "2016-03-01           143.4      3.77        108209.0  10254.4   20.573  \n",
       "2016-04-01           143.4      3.77        108209.0  10233.1   20.573  \n",
       "2016-05-01           143.4      3.77        108209.0  10214.7   20.573  "
      ]
     },
     "execution_count": 23,
     "metadata": {},
     "output_type": "execute_result"
    }
   ],
   "source": [
    "# Reading prepared data into a dataframe.\n",
    "df = pd.read_csv(\"prepared_dataset.csv\").set_index(\"DATE\")\n",
    "df.head()"
   ]
  },
  {
   "cell_type": "code",
   "execution_count": 24,
   "id": "878ebaff",
   "metadata": {},
   "outputs": [
    {
     "data": {
      "text/html": [
       "<div>\n",
       "<style scoped>\n",
       "    .dataframe tbody tr th:only-of-type {\n",
       "        vertical-align: middle;\n",
       "    }\n",
       "\n",
       "    .dataframe tbody tr th {\n",
       "        vertical-align: top;\n",
       "    }\n",
       "\n",
       "    .dataframe thead th {\n",
       "        text-align: right;\n",
       "    }\n",
       "</style>\n",
       "<table border=\"1\" class=\"dataframe\">\n",
       "  <thead>\n",
       "    <tr style=\"text-align: right;\">\n",
       "      <th></th>\n",
       "      <th>CSUSHPISA</th>\n",
       "      <th>Year</th>\n",
       "      <th>Month</th>\n",
       "      <th>Per_Capita_GDP</th>\n",
       "      <th>CPI</th>\n",
       "      <th>UNRATE</th>\n",
       "      <th>Cons_Materials</th>\n",
       "      <th>FEDFUNDS</th>\n",
       "      <th>Num_Households</th>\n",
       "      <th>Income</th>\n",
       "      <th>Subsidy</th>\n",
       "    </tr>\n",
       "    <tr>\n",
       "      <th>DATE</th>\n",
       "      <th></th>\n",
       "      <th></th>\n",
       "      <th></th>\n",
       "      <th></th>\n",
       "      <th></th>\n",
       "      <th></th>\n",
       "      <th></th>\n",
       "      <th></th>\n",
       "      <th></th>\n",
       "      <th></th>\n",
       "      <th></th>\n",
       "    </tr>\n",
       "  </thead>\n",
       "  <tbody>\n",
       "    <tr>\n",
       "      <th>NaN</th>\n",
       "      <td>297.413</td>\n",
       "      <td>2022.0</td>\n",
       "      <td>12.0</td>\n",
       "      <td>66019.0</td>\n",
       "      <td>326.449</td>\n",
       "      <td>3.5</td>\n",
       "      <td>326.449</td>\n",
       "      <td>4.1</td>\n",
       "      <td>131202.0</td>\n",
       "      <td>16161.4</td>\n",
       "      <td>48.021</td>\n",
       "    </tr>\n",
       "    <tr>\n",
       "      <th>NaN</th>\n",
       "      <td>297.413</td>\n",
       "      <td>2022.0</td>\n",
       "      <td>12.0</td>\n",
       "      <td>66030.8</td>\n",
       "      <td>326.449</td>\n",
       "      <td>3.5</td>\n",
       "      <td>326.449</td>\n",
       "      <td>4.1</td>\n",
       "      <td>131202.0</td>\n",
       "      <td>16184.9</td>\n",
       "      <td>48.021</td>\n",
       "    </tr>\n",
       "    <tr>\n",
       "      <th>NaN</th>\n",
       "      <td>297.413</td>\n",
       "      <td>2022.0</td>\n",
       "      <td>12.0</td>\n",
       "      <td>66042.6</td>\n",
       "      <td>326.449</td>\n",
       "      <td>3.5</td>\n",
       "      <td>326.449</td>\n",
       "      <td>4.1</td>\n",
       "      <td>131202.0</td>\n",
       "      <td>16223.5</td>\n",
       "      <td>48.021</td>\n",
       "    </tr>\n",
       "    <tr>\n",
       "      <th>NaN</th>\n",
       "      <td>297.413</td>\n",
       "      <td>2022.0</td>\n",
       "      <td>12.0</td>\n",
       "      <td>66054.4</td>\n",
       "      <td>326.449</td>\n",
       "      <td>3.5</td>\n",
       "      <td>326.449</td>\n",
       "      <td>4.1</td>\n",
       "      <td>131202.0</td>\n",
       "      <td>16229.6</td>\n",
       "      <td>48.021</td>\n",
       "    </tr>\n",
       "    <tr>\n",
       "      <th>NaN</th>\n",
       "      <td>297.413</td>\n",
       "      <td>2022.0</td>\n",
       "      <td>12.0</td>\n",
       "      <td>66066.2</td>\n",
       "      <td>326.449</td>\n",
       "      <td>3.5</td>\n",
       "      <td>326.449</td>\n",
       "      <td>4.1</td>\n",
       "      <td>131202.0</td>\n",
       "      <td>16265.1</td>\n",
       "      <td>48.021</td>\n",
       "    </tr>\n",
       "  </tbody>\n",
       "</table>\n",
       "</div>"
      ],
      "text/plain": [
       "      CSUSHPISA    Year  Month  Per_Capita_GDP      CPI  UNRATE  \\\n",
       "DATE                                                              \n",
       "NaN     297.413  2022.0   12.0         66019.0  326.449     3.5   \n",
       "NaN     297.413  2022.0   12.0         66030.8  326.449     3.5   \n",
       "NaN     297.413  2022.0   12.0         66042.6  326.449     3.5   \n",
       "NaN     297.413  2022.0   12.0         66054.4  326.449     3.5   \n",
       "NaN     297.413  2022.0   12.0         66066.2  326.449     3.5   \n",
       "\n",
       "      Cons_Materials  FEDFUNDS  Num_Households   Income  Subsidy  \n",
       "DATE                                                              \n",
       "NaN          326.449       4.1        131202.0  16161.4   48.021  \n",
       "NaN          326.449       4.1        131202.0  16184.9   48.021  \n",
       "NaN          326.449       4.1        131202.0  16223.5   48.021  \n",
       "NaN          326.449       4.1        131202.0  16229.6   48.021  \n",
       "NaN          326.449       4.1        131202.0  16265.1   48.021  "
      ]
     },
     "execution_count": 24,
     "metadata": {},
     "output_type": "execute_result"
    }
   ],
   "source": [
    "df.tail()"
   ]
  },
  {
   "cell_type": "code",
   "execution_count": 25,
   "id": "285a5ed0",
   "metadata": {},
   "outputs": [
    {
     "data": {
      "text/html": [
       "<div>\n",
       "<style scoped>\n",
       "    .dataframe tbody tr th:only-of-type {\n",
       "        vertical-align: middle;\n",
       "    }\n",
       "\n",
       "    .dataframe tbody tr th {\n",
       "        vertical-align: top;\n",
       "    }\n",
       "\n",
       "    .dataframe thead th {\n",
       "        text-align: right;\n",
       "    }\n",
       "</style>\n",
       "<table border=\"1\" class=\"dataframe\">\n",
       "  <thead>\n",
       "    <tr style=\"text-align: right;\">\n",
       "      <th></th>\n",
       "      <th>CSUSHPISA</th>\n",
       "      <th>Year</th>\n",
       "      <th>Month</th>\n",
       "      <th>Per_Capita_GDP</th>\n",
       "      <th>CPI</th>\n",
       "      <th>UNRATE</th>\n",
       "      <th>Cons_Materials</th>\n",
       "      <th>FEDFUNDS</th>\n",
       "      <th>Num_Households</th>\n",
       "      <th>Income</th>\n",
       "      <th>Subsidy</th>\n",
       "    </tr>\n",
       "  </thead>\n",
       "  <tbody>\n",
       "    <tr>\n",
       "      <th>count</th>\n",
       "      <td>3072.000000</td>\n",
       "      <td>3072.000000</td>\n",
       "      <td>3072.000000</td>\n",
       "      <td>3072.000000</td>\n",
       "      <td>3072.000000</td>\n",
       "      <td>3072.000000</td>\n",
       "      <td>3072.000000</td>\n",
       "      <td>3072.000000</td>\n",
       "      <td>3072.000000</td>\n",
       "      <td>3072.000000</td>\n",
       "      <td>3072.000000</td>\n",
       "    </tr>\n",
       "    <tr>\n",
       "      <th>mean</th>\n",
       "      <td>176.626973</td>\n",
       "      <td>2011.765625</td>\n",
       "      <td>6.601562</td>\n",
       "      <td>56910.949219</td>\n",
       "      <td>208.151766</td>\n",
       "      <td>5.962109</td>\n",
       "      <td>208.151766</td>\n",
       "      <td>1.362813</td>\n",
       "      <td>120504.390625</td>\n",
       "      <td>13293.152604</td>\n",
       "      <td>33.868969</td>\n",
       "    </tr>\n",
       "    <tr>\n",
       "      <th>std</th>\n",
       "      <td>42.741946</td>\n",
       "      <td>6.230335</td>\n",
       "      <td>3.446210</td>\n",
       "      <td>4258.129339</td>\n",
       "      <td>46.549542</td>\n",
       "      <td>1.958537</td>\n",
       "      <td>46.549542</td>\n",
       "      <td>1.545294</td>\n",
       "      <td>6702.093694</td>\n",
       "      <td>1931.292688</td>\n",
       "      <td>6.545399</td>\n",
       "    </tr>\n",
       "    <tr>\n",
       "      <th>min</th>\n",
       "      <td>113.491000</td>\n",
       "      <td>2001.000000</td>\n",
       "      <td>1.000000</td>\n",
       "      <td>49774.000000</td>\n",
       "      <td>141.700000</td>\n",
       "      <td>3.500000</td>\n",
       "      <td>141.700000</td>\n",
       "      <td>0.050000</td>\n",
       "      <td>108209.000000</td>\n",
       "      <td>10211.700000</td>\n",
       "      <td>20.573000</td>\n",
       "    </tr>\n",
       "    <tr>\n",
       "      <th>25%</th>\n",
       "      <td>145.698500</td>\n",
       "      <td>2006.000000</td>\n",
       "      <td>4.000000</td>\n",
       "      <td>54100.000000</td>\n",
       "      <td>182.100000</td>\n",
       "      <td>4.600000</td>\n",
       "      <td>182.100000</td>\n",
       "      <td>0.120000</td>\n",
       "      <td>114384.000000</td>\n",
       "      <td>11889.850000</td>\n",
       "      <td>28.604000</td>\n",
       "    </tr>\n",
       "    <tr>\n",
       "      <th>50%</th>\n",
       "      <td>169.575500</td>\n",
       "      <td>2012.000000</td>\n",
       "      <td>7.000000</td>\n",
       "      <td>55641.500000</td>\n",
       "      <td>205.950000</td>\n",
       "      <td>5.500000</td>\n",
       "      <td>205.950000</td>\n",
       "      <td>0.940000</td>\n",
       "      <td>121084.000000</td>\n",
       "      <td>12920.150000</td>\n",
       "      <td>33.283000</td>\n",
       "    </tr>\n",
       "    <tr>\n",
       "      <th>75%</th>\n",
       "      <td>192.938500</td>\n",
       "      <td>2017.000000</td>\n",
       "      <td>10.000000</td>\n",
       "      <td>59884.830000</td>\n",
       "      <td>222.575000</td>\n",
       "      <td>6.900000</td>\n",
       "      <td>222.575000</td>\n",
       "      <td>2.002500</td>\n",
       "      <td>126224.000000</td>\n",
       "      <td>14685.225000</td>\n",
       "      <td>37.550000</td>\n",
       "    </tr>\n",
       "    <tr>\n",
       "      <th>max</th>\n",
       "      <td>304.724000</td>\n",
       "      <td>2022.000000</td>\n",
       "      <td>12.000000</td>\n",
       "      <td>66066.200000</td>\n",
       "      <td>353.015000</td>\n",
       "      <td>14.700000</td>\n",
       "      <td>353.015000</td>\n",
       "      <td>5.260000</td>\n",
       "      <td>131202.000000</td>\n",
       "      <td>20422.600000</td>\n",
       "      <td>48.021000</td>\n",
       "    </tr>\n",
       "  </tbody>\n",
       "</table>\n",
       "</div>"
      ],
      "text/plain": [
       "         CSUSHPISA         Year        Month  Per_Capita_GDP          CPI  \\\n",
       "count  3072.000000  3072.000000  3072.000000     3072.000000  3072.000000   \n",
       "mean    176.626973  2011.765625     6.601562    56910.949219   208.151766   \n",
       "std      42.741946     6.230335     3.446210     4258.129339    46.549542   \n",
       "min     113.491000  2001.000000     1.000000    49774.000000   141.700000   \n",
       "25%     145.698500  2006.000000     4.000000    54100.000000   182.100000   \n",
       "50%     169.575500  2012.000000     7.000000    55641.500000   205.950000   \n",
       "75%     192.938500  2017.000000    10.000000    59884.830000   222.575000   \n",
       "max     304.724000  2022.000000    12.000000    66066.200000   353.015000   \n",
       "\n",
       "            UNRATE  Cons_Materials     FEDFUNDS  Num_Households        Income  \\\n",
       "count  3072.000000     3072.000000  3072.000000     3072.000000   3072.000000   \n",
       "mean      5.962109      208.151766     1.362813   120504.390625  13293.152604   \n",
       "std       1.958537       46.549542     1.545294     6702.093694   1931.292688   \n",
       "min       3.500000      141.700000     0.050000   108209.000000  10211.700000   \n",
       "25%       4.600000      182.100000     0.120000   114384.000000  11889.850000   \n",
       "50%       5.500000      205.950000     0.940000   121084.000000  12920.150000   \n",
       "75%       6.900000      222.575000     2.002500   126224.000000  14685.225000   \n",
       "max      14.700000      353.015000     5.260000   131202.000000  20422.600000   \n",
       "\n",
       "           Subsidy  \n",
       "count  3072.000000  \n",
       "mean     33.868969  \n",
       "std       6.545399  \n",
       "min      20.573000  \n",
       "25%      28.604000  \n",
       "50%      33.283000  \n",
       "75%      37.550000  \n",
       "max      48.021000  "
      ]
     },
     "execution_count": 25,
     "metadata": {},
     "output_type": "execute_result"
    }
   ],
   "source": [
    "df.describe()"
   ]
  },
  {
   "cell_type": "code",
   "execution_count": 26,
   "id": "894fcbf0",
   "metadata": {},
   "outputs": [
    {
     "data": {
      "text/plain": [
       "CSUSHPISA         0\n",
       "Year              0\n",
       "Month             0\n",
       "Per_Capita_GDP    0\n",
       "CPI               0\n",
       "UNRATE            0\n",
       "Cons_Materials    0\n",
       "FEDFUNDS          0\n",
       "Num_Households    0\n",
       "Income            0\n",
       "Subsidy           0\n",
       "dtype: int64"
      ]
     },
     "execution_count": 26,
     "metadata": {},
     "output_type": "execute_result"
    }
   ],
   "source": [
    "df.isnull().sum()"
   ]
  },
  {
   "cell_type": "code",
   "execution_count": 27,
   "id": "9440e094",
   "metadata": {},
   "outputs": [],
   "source": [
    "y = df.pop(\"CSUSHPISA\")\n",
    "X = df"
   ]
  },
  {
   "cell_type": "code",
   "execution_count": 28,
   "id": "c413476c",
   "metadata": {},
   "outputs": [],
   "source": [
    "# Splitting data into train and validation sets\n",
    "X_train, X_test, y_train, y_test = train_test_split(X,y, test_size= 0.2, random_state= 42)"
   ]
  },
  {
   "cell_type": "code",
   "execution_count": 29,
   "id": "84b08dd5",
   "metadata": {},
   "outputs": [
    {
     "data": {
      "text/html": [
       "<style>#sk-container-id-2 {color: black;}#sk-container-id-2 pre{padding: 0;}#sk-container-id-2 div.sk-toggleable {background-color: white;}#sk-container-id-2 label.sk-toggleable__label {cursor: pointer;display: block;width: 100%;margin-bottom: 0;padding: 0.3em;box-sizing: border-box;text-align: center;}#sk-container-id-2 label.sk-toggleable__label-arrow:before {content: \"▸\";float: left;margin-right: 0.25em;color: #696969;}#sk-container-id-2 label.sk-toggleable__label-arrow:hover:before {color: black;}#sk-container-id-2 div.sk-estimator:hover label.sk-toggleable__label-arrow:before {color: black;}#sk-container-id-2 div.sk-toggleable__content {max-height: 0;max-width: 0;overflow: hidden;text-align: left;background-color: #f0f8ff;}#sk-container-id-2 div.sk-toggleable__content pre {margin: 0.2em;color: black;border-radius: 0.25em;background-color: #f0f8ff;}#sk-container-id-2 input.sk-toggleable__control:checked~div.sk-toggleable__content {max-height: 200px;max-width: 100%;overflow: auto;}#sk-container-id-2 input.sk-toggleable__control:checked~label.sk-toggleable__label-arrow:before {content: \"▾\";}#sk-container-id-2 div.sk-estimator input.sk-toggleable__control:checked~label.sk-toggleable__label {background-color: #d4ebff;}#sk-container-id-2 div.sk-label input.sk-toggleable__control:checked~label.sk-toggleable__label {background-color: #d4ebff;}#sk-container-id-2 input.sk-hidden--visually {border: 0;clip: rect(1px 1px 1px 1px);clip: rect(1px, 1px, 1px, 1px);height: 1px;margin: -1px;overflow: hidden;padding: 0;position: absolute;width: 1px;}#sk-container-id-2 div.sk-estimator {font-family: monospace;background-color: #f0f8ff;border: 1px dotted black;border-radius: 0.25em;box-sizing: border-box;margin-bottom: 0.5em;}#sk-container-id-2 div.sk-estimator:hover {background-color: #d4ebff;}#sk-container-id-2 div.sk-parallel-item::after {content: \"\";width: 100%;border-bottom: 1px solid gray;flex-grow: 1;}#sk-container-id-2 div.sk-label:hover label.sk-toggleable__label {background-color: #d4ebff;}#sk-container-id-2 div.sk-serial::before {content: \"\";position: absolute;border-left: 1px solid gray;box-sizing: border-box;top: 0;bottom: 0;left: 50%;z-index: 0;}#sk-container-id-2 div.sk-serial {display: flex;flex-direction: column;align-items: center;background-color: white;padding-right: 0.2em;padding-left: 0.2em;position: relative;}#sk-container-id-2 div.sk-item {position: relative;z-index: 1;}#sk-container-id-2 div.sk-parallel {display: flex;align-items: stretch;justify-content: center;background-color: white;position: relative;}#sk-container-id-2 div.sk-item::before, #sk-container-id-2 div.sk-parallel-item::before {content: \"\";position: absolute;border-left: 1px solid gray;box-sizing: border-box;top: 0;bottom: 0;left: 50%;z-index: -1;}#sk-container-id-2 div.sk-parallel-item {display: flex;flex-direction: column;z-index: 1;position: relative;background-color: white;}#sk-container-id-2 div.sk-parallel-item:first-child::after {align-self: flex-end;width: 50%;}#sk-container-id-2 div.sk-parallel-item:last-child::after {align-self: flex-start;width: 50%;}#sk-container-id-2 div.sk-parallel-item:only-child::after {width: 0;}#sk-container-id-2 div.sk-dashed-wrapped {border: 1px dashed gray;margin: 0 0.4em 0.5em 0.4em;box-sizing: border-box;padding-bottom: 0.4em;background-color: white;}#sk-container-id-2 div.sk-label label {font-family: monospace;font-weight: bold;display: inline-block;line-height: 1.2em;}#sk-container-id-2 div.sk-label-container {text-align: center;}#sk-container-id-2 div.sk-container {/* jupyter's `normalize.less` sets `[hidden] { display: none; }` but bootstrap.min.css set `[hidden] { display: none !important; }` so we also need the `!important` here to be able to override the default hidden behavior on the sphinx rendered scikit-learn.org. See: https://github.com/scikit-learn/scikit-learn/issues/21755 */display: inline-block !important;position: relative;}#sk-container-id-2 div.sk-text-repr-fallback {display: none;}</style><div id=\"sk-container-id-2\" class=\"sk-top-container\"><div class=\"sk-text-repr-fallback\"><pre>LinearRegression()</pre><b>In a Jupyter environment, please rerun this cell to show the HTML representation or trust the notebook. <br />On GitHub, the HTML representation is unable to render, please try loading this page with nbviewer.org.</b></div><div class=\"sk-container\" hidden><div class=\"sk-item\"><div class=\"sk-estimator sk-toggleable\"><input class=\"sk-toggleable__control sk-hidden--visually\" id=\"sk-estimator-id-2\" type=\"checkbox\" checked><label for=\"sk-estimator-id-2\" class=\"sk-toggleable__label sk-toggleable__label-arrow\">LinearRegression</label><div class=\"sk-toggleable__content\"><pre>LinearRegression()</pre></div></div></div></div></div>"
      ],
      "text/plain": [
       "LinearRegression()"
      ]
     },
     "execution_count": 29,
     "metadata": {},
     "output_type": "execute_result"
    }
   ],
   "source": [
    "# Linear Regression Model\n",
    "model = LinearRegression()\n",
    "model.fit(X_train, y_train)"
   ]
  },
  {
   "cell_type": "code",
   "execution_count": 32,
   "id": "7a1f9d7d",
   "metadata": {},
   "outputs": [
    {
     "data": {
      "text/plain": [
       "array([0.96903117, 0.96661532, 0.96860181, 0.95419244, 0.97055978])"
      ]
     },
     "execution_count": 32,
     "metadata": {},
     "output_type": "execute_result"
    }
   ],
   "source": [
    "scores = cross_val_score(model, X_train, y_train, scoring = 'r2', cv = 5)\n",
    "scores"
   ]
  },
  {
   "cell_type": "code",
   "execution_count": 33,
   "id": "c2e6155b",
   "metadata": {},
   "outputs": [
    {
     "name": "stdout",
     "output_type": "stream",
     "text": [
      "0.9658001031272707\n"
     ]
    }
   ],
   "source": [
    "print (np.mean(scores))"
   ]
  },
  {
   "cell_type": "code",
   "execution_count": 35,
   "id": "c0851bd2",
   "metadata": {},
   "outputs": [
    {
     "data": {
      "text/plain": [
       "array([186.70855164, 153.80241791, 218.97921234, 123.54961325,\n",
       "       123.30257982, 238.15752027, 168.3671366 , 167.73009786,\n",
       "       163.90874208, 166.53869712, 223.34779015, 222.90010316,\n",
       "       159.72558117, 290.96578987, 152.82189931, 125.04875205,\n",
       "       285.9760706 , 125.3042832 , 147.66686091, 176.53421481,\n",
       "       206.0472683 , 150.7377271 , 152.01447162, 250.11461079,\n",
       "       126.12755053, 205.2829287 , 162.35362654, 143.52226916,\n",
       "       129.34537302, 163.69810883, 295.12299805, 212.12148713,\n",
       "       293.10275544, 177.29729603, 125.61470051, 151.96020874,\n",
       "       151.51493006, 144.78068926, 126.13063144, 222.69652286,\n",
       "       149.71940793, 149.53996361, 124.09458128, 275.72471614,\n",
       "       179.2402508 , 149.67668139, 267.52224182, 211.48527873,\n",
       "       154.12725521, 138.21294996, 139.72252859, 167.33306372,\n",
       "       112.96875173, 162.73084744, 167.92079824, 172.07570057,\n",
       "       153.09305384, 286.80650885, 135.10363177, 151.12022471,\n",
       "       152.19876094, 151.91470017, 179.73183509, 113.37215598,\n",
       "       162.23671736, 189.30225761, 134.70091866, 115.15673915,\n",
       "       150.85424784, 275.10716387, 156.91730507, 124.1083541 ,\n",
       "       154.61986722, 184.34199149, 154.72202468, 124.62632367,\n",
       "       222.59068462, 147.34436734, 125.62321903, 160.95137015,\n",
       "       222.84509603, 158.1354483 , 174.06997839, 180.22002656,\n",
       "       161.91976497, 182.63762416, 125.96512145, 212.53947802,\n",
       "       152.10376203, 175.93448505, 205.61277587, 262.08928336,\n",
       "       179.22747438, 267.58450805, 151.71786638, 175.95728196,\n",
       "       178.28167794, 161.06175346, 153.97065989, 298.50323918,\n",
       "       176.93705346, 113.4632233 , 201.32680461, 180.97995773,\n",
       "       141.24061344, 268.47817334, 125.98920204, 154.52020379,\n",
       "       285.7123188 , 148.00932555, 162.59451037, 143.85206577,\n",
       "       227.43180359, 125.94591937, 180.89113599, 151.16363606,\n",
       "       121.80429839, 223.26893403, 180.40241384, 167.76392285,\n",
       "       219.33322547, 121.94779833, 162.01375885, 134.25563582,\n",
       "       133.39903803, 203.68585836, 125.51747903, 126.09737634,\n",
       "       219.86757743, 218.71356461, 118.58724322, 212.93908446,\n",
       "       121.38820471, 125.27449791, 126.24506673, 150.62792762,\n",
       "       155.36497213, 125.35933259, 151.53272313, 184.64868966,\n",
       "       125.32769255, 151.47902573, 152.20214935, 222.25009492,\n",
       "       180.10647386, 122.77036455, 171.30145783, 227.8636071 ,\n",
       "       159.94590015, 146.21821875, 183.50844275, 176.38936728,\n",
       "       180.54283322, 217.53788282, 227.18389825, 152.69937873,\n",
       "       277.39476256, 155.16696236, 231.57614012, 161.46019775,\n",
       "       133.18442135, 166.71420442, 167.083912  , 257.435217  ,\n",
       "       160.68089583, 149.04625073, 220.07960705, 183.410385  ,\n",
       "       227.32226724, 153.61825657, 145.82370699, 166.24429557,\n",
       "       279.46328787, 150.65348304, 145.82896715, 131.60773619,\n",
       "       297.22252725, 184.56360316, 168.19742103, 168.18968827,\n",
       "       150.36943368, 153.7681596 , 115.01902856, 180.02715327,\n",
       "       167.51554867, 181.30121864, 203.27657537, 163.96888198,\n",
       "       181.9666978 , 148.23603955, 156.03133164, 221.98189911,\n",
       "       140.75852015, 287.85028835, 182.96461339, 261.7036352 ,\n",
       "       176.57927752, 138.68064304, 151.58761315, 154.24130785,\n",
       "       153.28183224, 206.77174363, 162.83765243, 145.17803145,\n",
       "       168.4606663 , 190.34777553, 183.61059985, 154.09295368,\n",
       "       183.93149898, 155.18828477, 153.34449518, 122.94603036,\n",
       "       150.66835551, 178.0433515 , 150.08454045, 145.87045321,\n",
       "       125.74820931, 219.97165215, 227.47345499, 150.51358708,\n",
       "       157.94834714, 150.66001018, 150.63356972, 178.39059375,\n",
       "       177.33053099, 210.95814685, 180.82582349, 221.19618065,\n",
       "       287.31861964, 167.16627927, 150.58754785, 153.17492623,\n",
       "       123.08338706, 167.33100661, 125.74921881, 155.64823644,\n",
       "       268.67946676, 124.91908332, 154.86914995, 182.58329277,\n",
       "       183.54119924, 176.65129732, 177.11537463, 211.32330313,\n",
       "       211.45227562, 161.22290889, 150.32612584, 296.95764324,\n",
       "       184.4859406 , 177.44666849, 126.36235136, 152.43671548,\n",
       "       152.67342551, 232.33097998, 118.65006926, 162.78557608,\n",
       "       160.90704536, 194.8136318 , 181.18036093, 301.2202042 ,\n",
       "       146.350505  , 168.68001913, 151.6392101 , 155.45810876,\n",
       "       132.83809743, 153.83155083, 113.23228235, 171.19388718,\n",
       "       168.74582396, 292.6094587 , 152.45269514, 302.04784239,\n",
       "       177.13952368, 221.38458111, 227.55386887, 164.63934168,\n",
       "       179.23383291, 180.26206273, 172.13732151, 126.04941427,\n",
       "       218.66380319, 129.06080709, 166.7147573 , 180.81319629,\n",
       "       148.66939796, 153.0807224 , 153.6328659 , 208.44849972,\n",
       "       287.13264886, 129.17018402, 215.03980736, 157.24662161,\n",
       "       172.40602817, 126.09211436, 152.06545252, 166.14745051,\n",
       "       154.95565197, 168.10899359, 129.59337686, 154.68661941,\n",
       "       149.10811889, 124.69230828, 152.93391714, 230.40619903,\n",
       "       302.14172258, 169.45950106, 177.2312934 , 145.04849469,\n",
       "       156.20571574, 152.63428375, 153.82315921, 151.7279369 ,\n",
       "       152.9876388 , 203.91517724, 133.48039716, 147.43990056,\n",
       "       286.42444654, 153.75794445, 126.46991044, 280.43645191,\n",
       "       154.27735381, 167.81562599, 160.52631536, 216.696518  ,\n",
       "       184.55887805, 149.18897795, 177.2182566 , 154.18909346,\n",
       "       182.54408988, 126.11467858, 183.8555443 , 178.97444716,\n",
       "       187.71910614, 220.54496738, 182.40621603, 125.61406329,\n",
       "       147.15693813, 184.35371745, 166.54786881, 211.67554631,\n",
       "       241.47514562, 188.21044887, 154.75857892, 206.20690417,\n",
       "       168.56895013, 152.90394865, 201.09333184, 152.72863407,\n",
       "       219.56909036, 126.3336371 , 208.4217099 , 183.83150084,\n",
       "       183.85308268, 208.57588017, 178.2545533 , 147.97413809,\n",
       "       154.33060237, 118.86725721, 167.56974572, 209.55323826,\n",
       "       168.52516872, 126.16228947, 168.02953958, 129.43160462,\n",
       "       132.93462432, 150.94742938, 157.85390761, 151.87491151,\n",
       "       210.82997283, 151.3230044 , 152.81689417, 213.08702717,\n",
       "       145.63034792, 296.40985515, 151.22790043, 156.76529215,\n",
       "       159.54513963, 161.40107203, 123.68207058, 294.9958899 ,\n",
       "       154.35079279, 153.08512383, 154.51468186, 149.84028191,\n",
       "       278.49419607, 237.53340975, 148.25232493, 157.61332082,\n",
       "       152.28823474, 144.38854863, 252.61052941, 170.1435296 ,\n",
       "       146.86738755, 145.9885866 , 183.11646256, 151.95761829,\n",
       "       151.53063466, 154.31961871, 209.68943885, 134.23045317,\n",
       "       147.32434716, 152.94604265, 151.43838508, 159.22240973,\n",
       "       296.73255991, 230.9979779 , 180.35721571, 144.6824753 ,\n",
       "       201.21459053, 228.71665325, 152.98226768, 124.65875124,\n",
       "       296.76189836, 153.92371596, 210.88954231, 154.05508202,\n",
       "       280.63311352, 168.30530357, 174.56746117, 177.18939875,\n",
       "       183.7870842 , 183.52362651, 149.15893446, 216.21260991,\n",
       "       182.9639947 , 157.83374325, 285.70862958, 154.48000401,\n",
       "       177.487571  , 163.0763459 , 168.66744837, 297.1797133 ,\n",
       "       280.25811119, 169.34636954, 225.29200672, 179.6785072 ,\n",
       "       159.37099081, 145.26591857, 205.3757014 , 178.80036905,\n",
       "       167.49965248, 302.19998602, 125.30173102, 168.03313535,\n",
       "       176.95779491, 145.39270858, 182.16706637, 133.46477792,\n",
       "       278.55921634, 151.0350318 , 191.26264444, 153.39378844,\n",
       "       159.94324275, 143.70356356, 150.24833578, 218.94746902,\n",
       "       278.51330638, 242.5440725 , 184.70269354, 149.04573456,\n",
       "       141.49857022, 150.68799318, 153.64711972, 215.62098528,\n",
       "       151.53433561, 182.13055027, 153.54677297, 148.86109967,\n",
       "       216.30004972, 163.58584125, 112.78511417, 166.46359504,\n",
       "       285.69517322, 240.64737677, 160.31134285, 113.27420359,\n",
       "       150.49167444, 219.28526   , 167.40388418, 182.71582462,\n",
       "       169.08608727, 168.00235061, 166.42864915, 131.73137104,\n",
       "       166.65789435, 178.63044146, 169.31224473, 281.29394012,\n",
       "       178.55534712, 153.51890604, 142.17024294, 152.05996332,\n",
       "       157.83283976, 183.68629032, 197.54032978, 179.40057155,\n",
       "       151.40308902, 281.06875978, 230.92438896, 167.2150843 ,\n",
       "       175.75303719, 168.02841632, 175.53451093, 175.55211184,\n",
       "       286.51644335, 185.9826634 , 149.71460394, 147.74087816,\n",
       "       175.58214826, 125.23150452, 147.56288209, 153.24006884,\n",
       "       181.48806449, 153.35114451, 131.91751696, 124.00747602,\n",
       "       184.47394694, 152.41596927, 150.81469364, 125.27864785,\n",
       "       168.47437867, 152.69125655, 153.6262758 , 152.8588539 ,\n",
       "       166.30330333, 153.95746618, 200.74285151, 226.23721924,\n",
       "       182.72359512, 153.24776869, 177.12473776, 191.3385489 ,\n",
       "       155.67427909, 201.9937007 , 164.88685443, 137.53903781,\n",
       "       125.73715145, 153.73990623, 175.20551475, 183.51756977,\n",
       "       186.98531713, 137.88072729, 179.68006362, 118.21661797,\n",
       "       220.81120557, 121.24740541, 177.45267624, 150.83078336,\n",
       "       174.72998462, 145.08729743, 156.48914774, 153.03367226,\n",
       "       115.66185354, 123.96664811, 183.55550992, 163.95852636,\n",
       "       129.44628465, 296.94946579, 161.41280767, 164.13534095,\n",
       "       279.39899038, 198.39501496, 159.78385207, 225.71802883,\n",
       "       262.85710156, 209.19027982, 294.22731267, 297.29200657,\n",
       "       183.79641225, 153.87083702, 153.49984745, 181.81517498,\n",
       "       164.96841406, 156.71544096, 178.62483354, 148.37853077,\n",
       "       153.23301432, 123.24041965, 160.52453958, 292.7093461 ,\n",
       "       181.19943506, 249.17821804, 169.03235536, 153.0561886 ,\n",
       "       156.8177562 , 156.38419481, 164.84936236, 212.92284475,\n",
       "       168.1341944 , 127.59318793, 158.81350527, 301.85054351,\n",
       "       216.55393127, 164.42839029, 215.53209053, 134.36819067,\n",
       "       178.39037754, 145.94002551, 201.88158286, 162.41702025,\n",
       "       223.74486571, 183.53721465, 168.34479267, 145.21513268,\n",
       "       281.95209797, 125.66373277, 215.86252519, 185.22464618,\n",
       "       154.90342472, 163.72582309, 183.92449014, 295.42643881,\n",
       "       168.2243213 , 182.99865951, 123.02290758])"
      ]
     },
     "execution_count": 35,
     "metadata": {},
     "output_type": "execute_result"
    }
   ],
   "source": [
    "from sklearn.model_selection import cross_val_predict\n",
    "pred = cross_val_predict(model,X_test,y_test)\n",
    "pred"
   ]
  },
  {
   "cell_type": "code",
   "execution_count": 36,
   "id": "c407f045",
   "metadata": {},
   "outputs": [
    {
     "data": {
      "text/plain": [
       "array([0.96903117, 0.96661532, 0.96860181, 0.95419244, 0.97055978])"
      ]
     },
     "execution_count": 36,
     "metadata": {},
     "output_type": "execute_result"
    }
   ],
   "source": [
    "scores_test = cross_val_score(model, X_test, y_test, cv =5)\n",
    "scores"
   ]
  },
  {
   "cell_type": "code",
   "execution_count": 39,
   "id": "9e98056c",
   "metadata": {},
   "outputs": [
    {
     "name": "stdout",
     "output_type": "stream",
     "text": [
      "0.9656443756362056\n"
     ]
    }
   ],
   "source": [
    "print(np.mean(scores_test))"
   ]
  },
  {
   "cell_type": "markdown",
   "id": "59a15988",
   "metadata": {},
   "source": [
    "# As We can see that using cross validation technique we get the score of 96% on training and predicting. "
   ]
  },
  {
   "cell_type": "code",
   "execution_count": 41,
   "id": "24adaa60",
   "metadata": {},
   "outputs": [],
   "source": [
    "from sklearn.ensemble import RandomForestRegressor\n",
    "from sklearn.neighbors import KNeighborsRegressor as KNN\n",
    "from sklearn.ensemble import GradientBoostingRegressor\n",
    "from sklearn.ensemble import AdaBoostRegressor\n",
    "from sklearn.ensemble import RandomForestRegressor\n",
    "from sklearn.metrics import mean_absolute_error\n",
    "from sklearn.metrics import mean_squared_error\n",
    "from sklearn.metrics import r2_score\n",
    "from sklearn.ensemble import BaggingRegressor"
   ]
  },
  {
   "cell_type": "code",
   "execution_count": 42,
   "id": "abf479c8",
   "metadata": {},
   "outputs": [
    {
     "data": {
      "text/plain": [
       "DATE\n",
       "2016-01-01    113.491\n",
       "2016-02-01    113.491\n",
       "2016-03-01    113.491\n",
       "2016-04-01    113.491\n",
       "2016-05-01    113.491\n",
       "               ...   \n",
       "NaN           297.413\n",
       "NaN           297.413\n",
       "NaN           297.413\n",
       "NaN           297.413\n",
       "NaN           297.413\n",
       "Name: CSUSHPISA, Length: 3072, dtype: float64"
      ]
     },
     "execution_count": 42,
     "metadata": {},
     "output_type": "execute_result"
    }
   ],
   "source": [
    "y"
   ]
  },
  {
   "cell_type": "code",
   "execution_count": 43,
   "id": "42c736dd",
   "metadata": {},
   "outputs": [
    {
     "data": {
      "text/html": [
       "<div>\n",
       "<style scoped>\n",
       "    .dataframe tbody tr th:only-of-type {\n",
       "        vertical-align: middle;\n",
       "    }\n",
       "\n",
       "    .dataframe tbody tr th {\n",
       "        vertical-align: top;\n",
       "    }\n",
       "\n",
       "    .dataframe thead th {\n",
       "        text-align: right;\n",
       "    }\n",
       "</style>\n",
       "<table border=\"1\" class=\"dataframe\">\n",
       "  <thead>\n",
       "    <tr style=\"text-align: right;\">\n",
       "      <th></th>\n",
       "      <th>Year</th>\n",
       "      <th>Month</th>\n",
       "      <th>Per_Capita_GDP</th>\n",
       "      <th>CPI</th>\n",
       "      <th>UNRATE</th>\n",
       "      <th>Cons_Materials</th>\n",
       "      <th>FEDFUNDS</th>\n",
       "      <th>Num_Households</th>\n",
       "      <th>Income</th>\n",
       "      <th>Subsidy</th>\n",
       "    </tr>\n",
       "    <tr>\n",
       "      <th>DATE</th>\n",
       "      <th></th>\n",
       "      <th></th>\n",
       "      <th></th>\n",
       "      <th></th>\n",
       "      <th></th>\n",
       "      <th></th>\n",
       "      <th></th>\n",
       "      <th></th>\n",
       "      <th></th>\n",
       "      <th></th>\n",
       "    </tr>\n",
       "  </thead>\n",
       "  <tbody>\n",
       "    <tr>\n",
       "      <th>2016-01-01</th>\n",
       "      <td>2001.0</td>\n",
       "      <td>7.0</td>\n",
       "      <td>49774.0</td>\n",
       "      <td>143.400</td>\n",
       "      <td>4.6</td>\n",
       "      <td>143.400</td>\n",
       "      <td>3.77</td>\n",
       "      <td>108209.0</td>\n",
       "      <td>10211.7</td>\n",
       "      <td>20.573</td>\n",
       "    </tr>\n",
       "    <tr>\n",
       "      <th>2016-02-01</th>\n",
       "      <td>2001.0</td>\n",
       "      <td>7.0</td>\n",
       "      <td>49774.0</td>\n",
       "      <td>143.400</td>\n",
       "      <td>4.6</td>\n",
       "      <td>143.400</td>\n",
       "      <td>3.77</td>\n",
       "      <td>108209.0</td>\n",
       "      <td>10223.4</td>\n",
       "      <td>20.573</td>\n",
       "    </tr>\n",
       "    <tr>\n",
       "      <th>2016-03-01</th>\n",
       "      <td>2001.0</td>\n",
       "      <td>7.0</td>\n",
       "      <td>49774.0</td>\n",
       "      <td>143.400</td>\n",
       "      <td>4.6</td>\n",
       "      <td>143.400</td>\n",
       "      <td>3.77</td>\n",
       "      <td>108209.0</td>\n",
       "      <td>10254.4</td>\n",
       "      <td>20.573</td>\n",
       "    </tr>\n",
       "    <tr>\n",
       "      <th>2016-04-01</th>\n",
       "      <td>2001.0</td>\n",
       "      <td>7.0</td>\n",
       "      <td>49774.0</td>\n",
       "      <td>143.400</td>\n",
       "      <td>4.6</td>\n",
       "      <td>143.400</td>\n",
       "      <td>3.77</td>\n",
       "      <td>108209.0</td>\n",
       "      <td>10233.1</td>\n",
       "      <td>20.573</td>\n",
       "    </tr>\n",
       "    <tr>\n",
       "      <th>2016-05-01</th>\n",
       "      <td>2001.0</td>\n",
       "      <td>7.0</td>\n",
       "      <td>49774.0</td>\n",
       "      <td>143.400</td>\n",
       "      <td>4.6</td>\n",
       "      <td>143.400</td>\n",
       "      <td>3.77</td>\n",
       "      <td>108209.0</td>\n",
       "      <td>10214.7</td>\n",
       "      <td>20.573</td>\n",
       "    </tr>\n",
       "    <tr>\n",
       "      <th>...</th>\n",
       "      <td>...</td>\n",
       "      <td>...</td>\n",
       "      <td>...</td>\n",
       "      <td>...</td>\n",
       "      <td>...</td>\n",
       "      <td>...</td>\n",
       "      <td>...</td>\n",
       "      <td>...</td>\n",
       "      <td>...</td>\n",
       "      <td>...</td>\n",
       "    </tr>\n",
       "    <tr>\n",
       "      <th>NaN</th>\n",
       "      <td>2022.0</td>\n",
       "      <td>12.0</td>\n",
       "      <td>66019.0</td>\n",
       "      <td>326.449</td>\n",
       "      <td>3.5</td>\n",
       "      <td>326.449</td>\n",
       "      <td>4.10</td>\n",
       "      <td>131202.0</td>\n",
       "      <td>16161.4</td>\n",
       "      <td>48.021</td>\n",
       "    </tr>\n",
       "    <tr>\n",
       "      <th>NaN</th>\n",
       "      <td>2022.0</td>\n",
       "      <td>12.0</td>\n",
       "      <td>66030.8</td>\n",
       "      <td>326.449</td>\n",
       "      <td>3.5</td>\n",
       "      <td>326.449</td>\n",
       "      <td>4.10</td>\n",
       "      <td>131202.0</td>\n",
       "      <td>16184.9</td>\n",
       "      <td>48.021</td>\n",
       "    </tr>\n",
       "    <tr>\n",
       "      <th>NaN</th>\n",
       "      <td>2022.0</td>\n",
       "      <td>12.0</td>\n",
       "      <td>66042.6</td>\n",
       "      <td>326.449</td>\n",
       "      <td>3.5</td>\n",
       "      <td>326.449</td>\n",
       "      <td>4.10</td>\n",
       "      <td>131202.0</td>\n",
       "      <td>16223.5</td>\n",
       "      <td>48.021</td>\n",
       "    </tr>\n",
       "    <tr>\n",
       "      <th>NaN</th>\n",
       "      <td>2022.0</td>\n",
       "      <td>12.0</td>\n",
       "      <td>66054.4</td>\n",
       "      <td>326.449</td>\n",
       "      <td>3.5</td>\n",
       "      <td>326.449</td>\n",
       "      <td>4.10</td>\n",
       "      <td>131202.0</td>\n",
       "      <td>16229.6</td>\n",
       "      <td>48.021</td>\n",
       "    </tr>\n",
       "    <tr>\n",
       "      <th>NaN</th>\n",
       "      <td>2022.0</td>\n",
       "      <td>12.0</td>\n",
       "      <td>66066.2</td>\n",
       "      <td>326.449</td>\n",
       "      <td>3.5</td>\n",
       "      <td>326.449</td>\n",
       "      <td>4.10</td>\n",
       "      <td>131202.0</td>\n",
       "      <td>16265.1</td>\n",
       "      <td>48.021</td>\n",
       "    </tr>\n",
       "  </tbody>\n",
       "</table>\n",
       "<p>3072 rows × 10 columns</p>\n",
       "</div>"
      ],
      "text/plain": [
       "              Year  Month  Per_Capita_GDP      CPI  UNRATE  Cons_Materials  \\\n",
       "DATE                                                                         \n",
       "2016-01-01  2001.0    7.0         49774.0  143.400     4.6         143.400   \n",
       "2016-02-01  2001.0    7.0         49774.0  143.400     4.6         143.400   \n",
       "2016-03-01  2001.0    7.0         49774.0  143.400     4.6         143.400   \n",
       "2016-04-01  2001.0    7.0         49774.0  143.400     4.6         143.400   \n",
       "2016-05-01  2001.0    7.0         49774.0  143.400     4.6         143.400   \n",
       "...            ...    ...             ...      ...     ...             ...   \n",
       "NaN         2022.0   12.0         66019.0  326.449     3.5         326.449   \n",
       "NaN         2022.0   12.0         66030.8  326.449     3.5         326.449   \n",
       "NaN         2022.0   12.0         66042.6  326.449     3.5         326.449   \n",
       "NaN         2022.0   12.0         66054.4  326.449     3.5         326.449   \n",
       "NaN         2022.0   12.0         66066.2  326.449     3.5         326.449   \n",
       "\n",
       "            FEDFUNDS  Num_Households   Income  Subsidy  \n",
       "DATE                                                    \n",
       "2016-01-01      3.77        108209.0  10211.7   20.573  \n",
       "2016-02-01      3.77        108209.0  10223.4   20.573  \n",
       "2016-03-01      3.77        108209.0  10254.4   20.573  \n",
       "2016-04-01      3.77        108209.0  10233.1   20.573  \n",
       "2016-05-01      3.77        108209.0  10214.7   20.573  \n",
       "...              ...             ...      ...      ...  \n",
       "NaN             4.10        131202.0  16161.4   48.021  \n",
       "NaN             4.10        131202.0  16184.9   48.021  \n",
       "NaN             4.10        131202.0  16223.5   48.021  \n",
       "NaN             4.10        131202.0  16229.6   48.021  \n",
       "NaN             4.10        131202.0  16265.1   48.021  \n",
       "\n",
       "[3072 rows x 10 columns]"
      ]
     },
     "execution_count": 43,
     "metadata": {},
     "output_type": "execute_result"
    }
   ],
   "source": [
    "X"
   ]
  },
  {
   "cell_type": "code",
   "execution_count": 46,
   "id": "822856d5",
   "metadata": {},
   "outputs": [
    {
     "name": "stdout",
     "output_type": "stream",
     "text": [
      "R2_Score: 0.9999916739068107\n",
      "MAE: 0.028523154471670562\n",
      "MSE: 0.016556073083899905\n",
      "RMSE: 0.12867040484858944\n"
     ]
    }
   ],
   "source": [
    "# Checking R2 score for Random Forest Regressor\n",
    "RFR=RandomForestRegressor()\n",
    "RFR.fit(X_train,y_train)\n",
    "\n",
    "# prediction\n",
    "predRFR=RFR.predict(X_test)\n",
    "print('R2_Score:',r2_score(y_test,predRFR))\n",
    "print('MAE:',mean_absolute_error(y_test, predRFR))\n",
    "print('MSE:',mean_squared_error(y_test, predRFR))\n",
    "print(\"RMSE:\",np.sqrt(mean_squared_error(y_test, predRFR)))"
   ]
  },
  {
   "cell_type": "code",
   "execution_count": 47,
   "id": "6954d261",
   "metadata": {},
   "outputs": [
    {
     "name": "stdout",
     "output_type": "stream",
     "text": [
      "R2_Score: 0.9980850058227716\n",
      "MAE: 0.9964926829268279\n",
      "MSE: 3.8078823804227544\n",
      "RMSE: 1.9513796095129092\n"
     ]
    }
   ],
   "source": [
    "# Checking R2 score for Stochastic KNN Regressor\n",
    "knn=KNN()\n",
    "knn.fit(X_train,y_train)\n",
    "\n",
    "# prediction\n",
    "predknn=knn.predict(X_test)\n",
    "print('R2_Score:',r2_score(y_test,predknn))\n",
    "print('MAE:',mean_absolute_error(y_test, predknn))\n",
    "print('MSE:',mean_squared_error(y_test, predknn))\n",
    "print(\"RMSE:\",np.sqrt(mean_squared_error(y_test, predknn)))"
   ]
  },
  {
   "cell_type": "code",
   "execution_count": 50,
   "id": "8f2b7866",
   "metadata": {},
   "outputs": [],
   "source": [
    "from sklearn.model_selection import GridSearchCV"
   ]
  },
  {
   "cell_type": "code",
   "execution_count": 52,
   "id": "6a2931bf",
   "metadata": {},
   "outputs": [],
   "source": [
    "param_grid = {\n",
    "    'n_neighbors': np.arange(1, 21),  # K values from 1 to 20\n",
    "    'weights': ['uniform', 'distance'],  # Weight options\n",
    "    'p': [1, 2],  # Distance metric (1 for Manhattan, 2 for Euclidean)\n",
    "}"
   ]
  },
  {
   "cell_type": "code",
   "execution_count": 54,
   "id": "de16dd8a",
   "metadata": {},
   "outputs": [],
   "source": [
    "grid_search = GridSearchCV(knn, param_grid, cv=5, scoring='neg_mean_squared_error')"
   ]
  },
  {
   "cell_type": "code",
   "execution_count": 55,
   "id": "5b39d48c",
   "metadata": {},
   "outputs": [
    {
     "data": {
      "text/html": [
       "<style>#sk-container-id-3 {color: black;}#sk-container-id-3 pre{padding: 0;}#sk-container-id-3 div.sk-toggleable {background-color: white;}#sk-container-id-3 label.sk-toggleable__label {cursor: pointer;display: block;width: 100%;margin-bottom: 0;padding: 0.3em;box-sizing: border-box;text-align: center;}#sk-container-id-3 label.sk-toggleable__label-arrow:before {content: \"▸\";float: left;margin-right: 0.25em;color: #696969;}#sk-container-id-3 label.sk-toggleable__label-arrow:hover:before {color: black;}#sk-container-id-3 div.sk-estimator:hover label.sk-toggleable__label-arrow:before {color: black;}#sk-container-id-3 div.sk-toggleable__content {max-height: 0;max-width: 0;overflow: hidden;text-align: left;background-color: #f0f8ff;}#sk-container-id-3 div.sk-toggleable__content pre {margin: 0.2em;color: black;border-radius: 0.25em;background-color: #f0f8ff;}#sk-container-id-3 input.sk-toggleable__control:checked~div.sk-toggleable__content {max-height: 200px;max-width: 100%;overflow: auto;}#sk-container-id-3 input.sk-toggleable__control:checked~label.sk-toggleable__label-arrow:before {content: \"▾\";}#sk-container-id-3 div.sk-estimator input.sk-toggleable__control:checked~label.sk-toggleable__label {background-color: #d4ebff;}#sk-container-id-3 div.sk-label input.sk-toggleable__control:checked~label.sk-toggleable__label {background-color: #d4ebff;}#sk-container-id-3 input.sk-hidden--visually {border: 0;clip: rect(1px 1px 1px 1px);clip: rect(1px, 1px, 1px, 1px);height: 1px;margin: -1px;overflow: hidden;padding: 0;position: absolute;width: 1px;}#sk-container-id-3 div.sk-estimator {font-family: monospace;background-color: #f0f8ff;border: 1px dotted black;border-radius: 0.25em;box-sizing: border-box;margin-bottom: 0.5em;}#sk-container-id-3 div.sk-estimator:hover {background-color: #d4ebff;}#sk-container-id-3 div.sk-parallel-item::after {content: \"\";width: 100%;border-bottom: 1px solid gray;flex-grow: 1;}#sk-container-id-3 div.sk-label:hover label.sk-toggleable__label {background-color: #d4ebff;}#sk-container-id-3 div.sk-serial::before {content: \"\";position: absolute;border-left: 1px solid gray;box-sizing: border-box;top: 0;bottom: 0;left: 50%;z-index: 0;}#sk-container-id-3 div.sk-serial {display: flex;flex-direction: column;align-items: center;background-color: white;padding-right: 0.2em;padding-left: 0.2em;position: relative;}#sk-container-id-3 div.sk-item {position: relative;z-index: 1;}#sk-container-id-3 div.sk-parallel {display: flex;align-items: stretch;justify-content: center;background-color: white;position: relative;}#sk-container-id-3 div.sk-item::before, #sk-container-id-3 div.sk-parallel-item::before {content: \"\";position: absolute;border-left: 1px solid gray;box-sizing: border-box;top: 0;bottom: 0;left: 50%;z-index: -1;}#sk-container-id-3 div.sk-parallel-item {display: flex;flex-direction: column;z-index: 1;position: relative;background-color: white;}#sk-container-id-3 div.sk-parallel-item:first-child::after {align-self: flex-end;width: 50%;}#sk-container-id-3 div.sk-parallel-item:last-child::after {align-self: flex-start;width: 50%;}#sk-container-id-3 div.sk-parallel-item:only-child::after {width: 0;}#sk-container-id-3 div.sk-dashed-wrapped {border: 1px dashed gray;margin: 0 0.4em 0.5em 0.4em;box-sizing: border-box;padding-bottom: 0.4em;background-color: white;}#sk-container-id-3 div.sk-label label {font-family: monospace;font-weight: bold;display: inline-block;line-height: 1.2em;}#sk-container-id-3 div.sk-label-container {text-align: center;}#sk-container-id-3 div.sk-container {/* jupyter's `normalize.less` sets `[hidden] { display: none; }` but bootstrap.min.css set `[hidden] { display: none !important; }` so we also need the `!important` here to be able to override the default hidden behavior on the sphinx rendered scikit-learn.org. See: https://github.com/scikit-learn/scikit-learn/issues/21755 */display: inline-block !important;position: relative;}#sk-container-id-3 div.sk-text-repr-fallback {display: none;}</style><div id=\"sk-container-id-3\" class=\"sk-top-container\"><div class=\"sk-text-repr-fallback\"><pre>GridSearchCV(cv=5, estimator=KNeighborsRegressor(),\n",
       "             param_grid={&#x27;n_neighbors&#x27;: array([ 1,  2,  3,  4,  5,  6,  7,  8,  9, 10, 11, 12, 13, 14, 15, 16, 17,\n",
       "       18, 19, 20]),\n",
       "                         &#x27;p&#x27;: [1, 2], &#x27;weights&#x27;: [&#x27;uniform&#x27;, &#x27;distance&#x27;]},\n",
       "             scoring=&#x27;neg_mean_squared_error&#x27;)</pre><b>In a Jupyter environment, please rerun this cell to show the HTML representation or trust the notebook. <br />On GitHub, the HTML representation is unable to render, please try loading this page with nbviewer.org.</b></div><div class=\"sk-container\" hidden><div class=\"sk-item sk-dashed-wrapped\"><div class=\"sk-label-container\"><div class=\"sk-label sk-toggleable\"><input class=\"sk-toggleable__control sk-hidden--visually\" id=\"sk-estimator-id-3\" type=\"checkbox\" ><label for=\"sk-estimator-id-3\" class=\"sk-toggleable__label sk-toggleable__label-arrow\">GridSearchCV</label><div class=\"sk-toggleable__content\"><pre>GridSearchCV(cv=5, estimator=KNeighborsRegressor(),\n",
       "             param_grid={&#x27;n_neighbors&#x27;: array([ 1,  2,  3,  4,  5,  6,  7,  8,  9, 10, 11, 12, 13, 14, 15, 16, 17,\n",
       "       18, 19, 20]),\n",
       "                         &#x27;p&#x27;: [1, 2], &#x27;weights&#x27;: [&#x27;uniform&#x27;, &#x27;distance&#x27;]},\n",
       "             scoring=&#x27;neg_mean_squared_error&#x27;)</pre></div></div></div><div class=\"sk-parallel\"><div class=\"sk-parallel-item\"><div class=\"sk-item\"><div class=\"sk-label-container\"><div class=\"sk-label sk-toggleable\"><input class=\"sk-toggleable__control sk-hidden--visually\" id=\"sk-estimator-id-4\" type=\"checkbox\" ><label for=\"sk-estimator-id-4\" class=\"sk-toggleable__label sk-toggleable__label-arrow\">estimator: KNeighborsRegressor</label><div class=\"sk-toggleable__content\"><pre>KNeighborsRegressor()</pre></div></div></div><div class=\"sk-serial\"><div class=\"sk-item\"><div class=\"sk-estimator sk-toggleable\"><input class=\"sk-toggleable__control sk-hidden--visually\" id=\"sk-estimator-id-5\" type=\"checkbox\" ><label for=\"sk-estimator-id-5\" class=\"sk-toggleable__label sk-toggleable__label-arrow\">KNeighborsRegressor</label><div class=\"sk-toggleable__content\"><pre>KNeighborsRegressor()</pre></div></div></div></div></div></div></div></div></div></div>"
      ],
      "text/plain": [
       "GridSearchCV(cv=5, estimator=KNeighborsRegressor(),\n",
       "             param_grid={'n_neighbors': array([ 1,  2,  3,  4,  5,  6,  7,  8,  9, 10, 11, 12, 13, 14, 15, 16, 17,\n",
       "       18, 19, 20]),\n",
       "                         'p': [1, 2], 'weights': ['uniform', 'distance']},\n",
       "             scoring='neg_mean_squared_error')"
      ]
     },
     "execution_count": 55,
     "metadata": {},
     "output_type": "execute_result"
    }
   ],
   "source": [
    "grid_search.fit(X_train, y_train)"
   ]
  },
  {
   "cell_type": "code",
   "execution_count": 56,
   "id": "f28d2aa9",
   "metadata": {},
   "outputs": [
    {
     "name": "stdout",
     "output_type": "stream",
     "text": [
      "Best Hyperparameters: {'n_neighbors': 2, 'p': 1, 'weights': 'distance'}\n"
     ]
    }
   ],
   "source": [
    "print(\"Best Hyperparameters:\", grid_search.best_params_)"
   ]
  },
  {
   "cell_type": "code",
   "execution_count": 61,
   "id": "d769929c",
   "metadata": {},
   "outputs": [
    {
     "name": "stdout",
     "output_type": "stream",
     "text": [
      "R2_Score: 0.9986451994925502\n",
      "MAE: 0.6900963995300954\n",
      "MSE: 2.6939617063340906\n",
      "RMSE: 1.6413292498259118\n"
     ]
    }
   ],
   "source": [
    "FinalModel=KNN(n_neighbors= 2, p= 1, weights= 'distance')\n",
    "FinalModel.fit(X_train, y_train)\n",
    "predFinalModel=FinalModel.predict(X_test)\n",
    "print('R2_Score:',r2_score(y_test,predFinalModel))\n",
    "print('MAE:',mean_absolute_error(y_test, predFinalModel))\n",
    "print('MSE:',mean_squared_error(y_test, predFinalModel))\n",
    "print(\"RMSE:\",np.sqrt(mean_squared_error(y_test, predFinalModel)))"
   ]
  },
  {
   "cell_type": "code",
   "execution_count": 63,
   "id": "2dce5347",
   "metadata": {},
   "outputs": [
    {
     "name": "stdout",
     "output_type": "stream",
     "text": [
      "R2_Score: 0.9999814033985486\n",
      "MAE: 0.0332525203252191\n",
      "MSE: 0.036978530715446836\n",
      "RMSE: 0.19229802577105892\n"
     ]
    }
   ],
   "source": [
    "# Checking R2 score for BaggingRegressor\n",
    "from sklearn.ensemble import BaggingRegressor\n",
    "BR=BaggingRegressor()\n",
    "BR.fit(X_train,y_train)\n",
    "\n",
    "# prediction\n",
    "predBR=BR.predict(X_test)\n",
    "print('R2_Score:',r2_score(y_test,predBR))\n",
    "print('MAE:',mean_absolute_error(y_test, predBR))\n",
    "print('MSE:',mean_squared_error(y_test, predBR))\n",
    "print(\"RMSE:\",np.sqrt(mean_squared_error(y_test, predBR)))"
   ]
  },
  {
   "cell_type": "markdown",
   "id": "c9bdadda",
   "metadata": {},
   "source": [
    "As we can see that dataset is highly correlated can be over so we can select our final model Bagging Regressor and CrossValidation Regressor and among Bagging Regression is giving the best Accuracy."
   ]
  }
 ],
 "metadata": {
  "kernelspec": {
   "display_name": "Python 3 (ipykernel)",
   "language": "python",
   "name": "python3"
  },
  "language_info": {
   "codemirror_mode": {
    "name": "ipython",
    "version": 3
   },
   "file_extension": ".py",
   "mimetype": "text/x-python",
   "name": "python",
   "nbconvert_exporter": "python",
   "pygments_lexer": "ipython3",
   "version": "3.11.5"
  }
 },
 "nbformat": 4,
 "nbformat_minor": 5
}
